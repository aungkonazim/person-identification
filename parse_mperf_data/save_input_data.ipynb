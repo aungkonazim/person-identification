{
 "cells": [
  {
   "cell_type": "code",
   "execution_count": 1,
   "metadata": {},
   "outputs": [],
   "source": [
    "from cerebralcortex.util.helper_methods import get_study_names\n",
    "from pyspark.sql import functions as F\n",
    "from pyspark.sql.functions import pandas_udf, PandasUDFType\n",
    "from pyspark.sql.types import StructField, StructType, DoubleType,MapType, StringType,ArrayType, FloatType, TimestampType, IntegerType\n",
    "from pyspark.sql.functions import minute, second, mean, window\n",
    "from pyspark.sql import functions as F\n",
    "import numpy as np\n",
    "import pandas as pd\n",
    "from cerebralcortex.core.datatypes import DataStream\n",
    "from cerebralcortex.core.metadata_manager.stream.metadata import Metadata, DataDescriptor, \\\n",
    "ModuleMetadata\n",
    "from typing import List\n",
    "import numpy as np\n",
    "from scipy import signal\n",
    "import pandas as pd\n",
    "import pickle\n",
    "from cerebralcortex import Kernel\n",
    "from pyspark.sql import functions as F\n",
    "CC = Kernel(\"/home/jupyter/cc3_conf/\", study_name='mperf')"
   ]
  },
  {
   "cell_type": "markdown",
   "metadata": {},
   "source": [
    "20 seconds data saving"
   ]
  },
  {
   "cell_type": "code",
   "execution_count": null,
   "metadata": {},
   "outputs": [],
   "source": [
    "total_user_data,daywise_user_data = pickle.load(open('../data/data_participants.p','rb'))\n",
    "wrist = 'left'\n",
    "sensor_name='motionsensehrvmperf'\n",
    "stream_name = \"org.md2k.\"+str(sensor_name)+\".\"+str(wrist)+\".wrist.acl.filtered\"\n",
    "data = CC.get_stream(stream_name)\n",
    "users = list(total_user_data.keys())\n",
    "data = data.filter(F.col('user').isin(users))\n",
    "data  = data.withColumn('day',F.date_format('localtime',\"yyyyMMdd\"))\n",
    "days = list(list(zip(*list(daywise_user_data.keys())))[1])\n",
    "data = data.filter(F.col('day').isin(days))\n",
    "\n",
    "data = data.withColumn('time',F.col('timestamp').cast('double'))\n",
    "\n",
    "data = data.withColumn('data',F.array('time',\n",
    "                                      'red','infrared','green',\n",
    "                                      'aclx','acly','aclz',\n",
    "                                      'gyrox','gyroy','gyroz')).drop(*['time','red','infrared','green','aclx',\n",
    "                                                       'acly','aclz','gyrox','gyroy','gyroz'])\n",
    "\n",
    "win = F.window(\"timestamp\", windowDuration='20 seconds', startTime='0 seconds')\n",
    "groupbycols = [\"user\",'version'] + [win]\n",
    "data_grouped = data._data.groupBy(groupbycols).agg(F.collect_list('data'),\n",
    "                                                   F.collect_list('timestamp'),\n",
    "                                                  F.collect_list('localtime')).withColumnRenamed('collect_list(data)',\n",
    "                                                                                                 'data').withColumnRenamed('collect_list(timestamp)',\n",
    "                                                                                                                            'timestamp').withColumnRenamed('collect_list(localtime)',\n",
    "                                                                                                                            'localtime')\n",
    "\n",
    "data_grouped = data_grouped.withColumn('localtime',F.col('localtime').getItem(0)).withColumn('timestamp',F.col('timestamp').getItem(0))\n",
    "\n",
    "stream_metadata = Metadata()\n",
    "stream_name = \"org.md2k.\"+str(sensor_name)+\".\"+str(wrist)+\".wrist.acl.filtered.data.grouped.20secs\"\n",
    "stream_metadata.set_name(stream_name).set_description(\"Data Parsed as minute length array\") \\\n",
    "    .add_dataDescriptor(\n",
    "    DataDescriptor().set_name(\"window\").set_type(\"object\").set_attribute(\"description\", \\\n",
    "    \"start and end times\")) \\\n",
    "    .add_dataDescriptor( \\\n",
    "    DataDescriptor().set_name(\"data\").set_type(\"array\").set_attribute(\"description\", \\\n",
    "    \"input data\")) \\\n",
    "    .add_dataDescriptor( \\\n",
    "    DataDescriptor().set_name(\"user\").set_type(\"string\").set_attribute(\"description\", \\\n",
    "    \"user id\")) \\\n",
    "    .add_dataDescriptor( \\\n",
    "    DataDescriptor().set_name(\"version\").set_type(\"integer\").set_attribute(\"description\", \\\n",
    "    \"version id\")) \\\n",
    "    .add_dataDescriptor( \\\n",
    "    DataDescriptor().set_name(\"timestamp\").set_type(\"timestamp\").set_attribute(\"description\", \\\n",
    "    \"timestamp\")) \\\n",
    "    .add_dataDescriptor( \\\n",
    "    DataDescriptor().set_name(\"localtime\").set_type(\"timestamp\").set_attribute(\"description\", \\\n",
    "    \"localtime\")) \\\n",
    "    .add_module( \\\n",
    "    ModuleMetadata().set_name(\"fourtytwo/mullah/cc3/motionsenseHRVquality.ipynb\").set_attribute(\"url\", \"https://md2k.org\").set_author(\n",
    "        \"Md Azim Ullah\", \"mullah@memphis.edu\"))\n",
    "data_grouped = DataStream(data=data_grouped,metadata=stream_metadata)\n",
    "CC.save_stream(data_grouped,overwrite=True)"
   ]
  },
  {
   "cell_type": "markdown",
   "metadata": {},
   "source": [
    "Sample Minutes per day maintaining the proportion of data available for each participant"
   ]
  },
  {
   "cell_type": "code",
   "execution_count": null,
   "metadata": {},
   "outputs": [],
   "source": [
    "def get_metadata(sensor_name,wrist):\n",
    "    stream_metadata = Metadata()\n",
    "    stream_name = \"org.md2k.\"+str(sensor_name)+\".\"+str(wrist)+\".wrist.acl.filtered.data.grouped.20secs.sampled\"\n",
    "    stream_metadata.set_name(stream_name).set_description(\"Data Parsed as minute length array\") \\\n",
    "        .add_dataDescriptor(\n",
    "        DataDescriptor().set_name(\"day\").set_type(\"string\").set_attribute(\"description\", \\\n",
    "        \"day as string\")) \\\n",
    "        .add_dataDescriptor( \\\n",
    "        DataDescriptor().set_name(\"data\").set_type(\"array\").set_attribute(\"description\", \\\n",
    "        \"input data\")) \\\n",
    "        .add_dataDescriptor( \\\n",
    "        DataDescriptor().set_name(\"user\").set_type(\"string\").set_attribute(\"description\", \\\n",
    "        \"user id\")) \\\n",
    "        .add_dataDescriptor( \\\n",
    "        DataDescriptor().set_name(\"version\").set_type(\"integer\").set_attribute(\"description\", \\\n",
    "        \"version id\")) \\\n",
    "        .add_dataDescriptor( \\\n",
    "        DataDescriptor().set_name(\"timestamp\").set_type(\"timestamp\").set_attribute(\"description\", \\\n",
    "        \"timestamp\")) \\\n",
    "        .add_dataDescriptor( \\\n",
    "        DataDescriptor().set_name(\"localtime\").set_type(\"timestamp\").set_attribute(\"description\", \\\n",
    "        \"localtime\")) \\\n",
    "        .add_module( \\\n",
    "        ModuleMetadata().set_name(\"fourtytwo/mullah/cc3/motionsenseHRVquality.ipynb\").set_attribute(\"url\", \"https://md2k.org\").set_author(\n",
    "            \"Md Azim Ullah\", \"mullah@memphis.edu\"))\n",
    "    return stream_metadata\n",
    "\n",
    "\n",
    "def random_selection(data,total_user_data,daywise_user_data,minutes_total,sensor_name,wrist):\n",
    "    schema = data.schema\n",
    "    @pandas_udf(schema, PandasUDFType.GROUPED_MAP)\n",
    "    def select_randomly(df):\n",
    "        if (df['user'].values[0],df['day'].values[0]) not in daywise_user_data:\n",
    "            return pd.DataFrame([],columns=df.columns)\n",
    "        if df.shape[0]<20:\n",
    "            return pd.DataFrame([],columns=df.columns)\n",
    "        total = total_user_data[df['user'].values[0]]\n",
    "        day_total = daywise_user_data[df['user'].values[0],df['day'].values[0]]\n",
    "        selected_minutes = int(np.ceil(minutes_total*day_total/total))\n",
    "#         df['data'] = df['data'].apply(lambda b:np.array([np.array(a) for a in b]))\n",
    "        df['shape'] = df['data'].apply(lambda b: len(b))\n",
    "        df = df[df['shape']>=498]\n",
    "        df.drop(columns=['shape'],inplace=True) \n",
    "        if selected_minutes<df.shape[0]:\n",
    "            df = df.sample(selected_minutes)\n",
    "        else:\n",
    "            df = df.sample(selected_minutes,replace=True)\n",
    "        return df\n",
    "    data = data._data.groupBy(['user','day','version']).apply(select_randomly)\n",
    "    stream_metadata = get_metadata(sensor_name,wrist)\n",
    "    data = DataStream(data=data,metadata=stream_metadata)\n",
    "    return data"
   ]
  },
  {
   "cell_type": "code",
   "execution_count": null,
   "metadata": {},
   "outputs": [],
   "source": [
    "total_user_data,daywise_user_data = pickle.load(open('../data/data_participants.p','rb'))\n",
    "wrist = 'left'\n",
    "sensor_name='motionsensehrvmperf'\n",
    "minutes_total  = 200*3\n",
    "stream_name = \"org.md2k.\"+str(sensor_name)+\".\"+str(wrist)+\".wrist.acl.filtered.data.grouped.20secs\"\n",
    "data = CC.get_stream(stream_name).drop('window')\n",
    "data  = data.withColumn('day',F.date_format('localtime',\"yyyyMMdd\"))\n",
    "data_final = random_selection(data,total_user_data,daywise_user_data,minutes_total,sensor_name,wrist)\n",
    "CC.save_stream(data_final,overwrite=True)"
   ]
  },
  {
   "cell_type": "markdown",
   "metadata": {},
   "source": [
    "Saving Participants Data"
   ]
  },
  {
   "cell_type": "code",
   "execution_count": 2,
   "metadata": {},
   "outputs": [],
   "source": [
    "total_user_data,daywise_user_data = pickle.load(open('../data/data_participants.p','rb'))\n",
    "wrist = 'left'\n",
    "sensor_name='motionsensehrvmperf'\n",
    "stream_name = \"org.md2k.\"+str(sensor_name)+\".\"+str(wrist)+\".wrist.acl.filtered.data.grouped.20secs.sampled\"\n",
    "data = CC.get_stream(stream_name)\n",
    "\n",
    "# data.count()\n",
    "\n",
    "# data.select('user').distinct().count()\n",
    "\n",
    "# 48690/79\n",
    "\n",
    "import pickle\n",
    "for user in list(total_user_data.keys()):\n",
    "    data = CC.get_stream(stream_name,user_id=user).toPandas()\n",
    "    data['data'] = data['data'].apply(lambda b:np.array([np.array(a) for a in b]))\n",
    "    pickle.dump(data,open('../data/data/'+str(user)+'.p','wb'))\n",
    "\n",
    "\n",
    "# for i,row in data.iterrows():\n",
    "#     print(row['data'].shape)\n",
    "# data.head()"
   ]
  },
  {
   "cell_type": "code",
   "execution_count": 3,
   "metadata": {},
   "outputs": [
    {
     "data": {
      "text/plain": [
       "'/home/jupyter/mullah/person-identification/data/data.zip'"
      ]
     },
     "execution_count": 3,
     "metadata": {},
     "output_type": "execute_result"
    }
   ],
   "source": [
    "import shutil\n",
    "shutil.make_archive('../data/data/','zip','../data/data/')"
   ]
  },
  {
   "cell_type": "code",
   "execution_count": null,
   "metadata": {},
   "outputs": [],
   "source": []
  }
 ],
 "metadata": {
  "kernelspec": {
   "display_name": "CC3 High Performance",
   "language": "python",
   "name": "cc3_high_performance"
  },
  "language_info": {
   "codemirror_mode": {
    "name": "ipython",
    "version": 3
   },
   "file_extension": ".py",
   "mimetype": "text/x-python",
   "name": "python",
   "nbconvert_exporter": "python",
   "pygments_lexer": "ipython3",
   "version": "3.6.8"
  }
 },
 "nbformat": 4,
 "nbformat_minor": 2
}
