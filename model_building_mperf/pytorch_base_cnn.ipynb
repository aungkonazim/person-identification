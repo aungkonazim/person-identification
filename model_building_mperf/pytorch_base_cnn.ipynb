{
 "cells": [
  {
   "cell_type": "code",
   "execution_count": 3,
   "metadata": {},
   "outputs": [],
   "source": [
    "import pickle\n",
    "import os\n",
    "import numpy as np\n",
    "import tensorflow as tf\n",
    "import pandas as pd\n",
    "from sklearn.model_selection import train_test_split"
   ]
  },
  {
   "cell_type": "code",
   "execution_count": 2,
   "metadata": {},
   "outputs": [],
   "source": [
    "X,y = pickle.load(open('../data/xyhighpass.p','rb'))"
   ]
  },
  {
   "cell_type": "code",
   "execution_count": 4,
   "metadata": {},
   "outputs": [],
   "source": [
    "X = np.nan_to_num(X[:,:,:3])\n",
    "y = np.array(y)\n",
    "groups = np.array(np.argmax(y,axis=1)).reshape(-1)\n",
    "def separate_known_unknown_users(X,y,groups,split_ratio = .2):\n",
    "    from sklearn.model_selection import LeavePGroupsOut\n",
    "    n_users = len(np.unique(groups))\n",
    "    lpgo = LeavePGroupsOut(n_groups=int(n_users*split_ratio))\n",
    "    for train_index, test_index in lpgo.split(X, y, groups=groups):\n",
    "        X_keep, X_out = X[train_index], X[test_index]\n",
    "        y_keep, y_out = y[train_index], y[test_index]\n",
    "        groups_keep, groups_out = groups[train_index], groups[test_index]\n",
    "        break\n",
    "    return X_keep,X_out,y_keep,y_out,groups_keep,groups_out\n",
    "X_keep,X_test_out,y_keep,y_test_out,groups_keep,groups_test_out = separate_known_unknown_users(X,y,groups,split_ratio=.2)\n",
    "X_in,X_val_out,y_in,y_val_out,groups_in,groups_val_out = separate_known_unknown_users(X_keep,y_keep,groups_keep,split_ratio=.1)\n",
    "X_train, X_test_in, y_train, y_test_in,groups_train,groups_test_in = train_test_split(X_in, y_in,groups_in, test_size=0.2, random_state=42,stratify=groups_in)\n",
    "X_train_in, X_val_in, y_train_in, y_val_in,groups_train_in,groups_val_in = train_test_split(X_train, y_train,groups_train, test_size=0.1, random_state=42,stratify=groups_train)"
   ]
  },
  {
   "cell_type": "code",
   "execution_count": null,
   "metadata": {},
   "outputs": [],
   "source": [
    "import matplotlib.pyplot as plt\n",
    "import numpy as np\n",
    "\n",
    "import torch\n",
    "import torch.nn as nn\n",
    "from torchvision.datasets import ImageFolder, MNIST\n",
    "from torchvision import transforms,datasets\n",
    "from torch import autograd\n",
    "from torch.autograd import Variable\n",
    "from torchvision.utils import make_grid\n",
    "from torchsummary import summary\n",
    "import torch.utils.data as data_utils\n",
    "batch_size = 256\n",
    "train = data_utils.TensorDataset(torch.from_numpy(X_train_in), torch.from_numpy(y_train_in),torch.from_numpy(groups_train_in))\n",
    "val = data_utils.TensorDataset(torch.from_numpy(X_val_in), torch.from_numpy(y_val_in),torch.from_numpy(groups_val_in))\n",
    "test = data_utils.TensorDataset(torch.from_numpy(X_test_in), torch.from_numpy(y_test_in),torch.from_numpy(groups_test_in))\n",
    "data_loader = data_utils.DataLoader(train, batch_size=batch_size, shuffle=True)"
   ]
  },
  {
   "cell_type": "code",
   "execution_count": null,
   "metadata": {},
   "outputs": [],
   "source": [
    "class Generator(nn.Module): \n",
    "    def __init__(self):\n",
    "        super(Generator, self).__init__()\n",
    "        self.n_classes = 5\n",
    "        self.std = .002\n",
    "        self.output_length = 256*6\n",
    "        self.noise_length = 100\n",
    "        self.intermediate_length = 800\n",
    "        self.n_channels = 6\n",
    "        self.n_timesteps = 256\n",
    "        self.model_noise = nn.Sequential(\n",
    "            nn.Linear(self.noise_length,self.n_timesteps*self.noise_length//10),\n",
    "            nn.Tanh()\n",
    "        )\n",
    "        self.model_noise2 = nn.Sequential(\n",
    "            nn.Conv1d(10,self.n_timesteps,kernel_size=10),\n",
    "            nn.Tanh()\n",
    "        )\n",
    "        \n",
    "        self.model_label = nn.Sequential(\n",
    "            nn.Linear(self.n_classes,self.n_timesteps),\n",
    "            nn.ReLU()\n",
    "        )\n",
    "        self.model_label2 = nn.Sequential(\n",
    "            nn.Conv1d(1,self.n_timesteps,kernel_size=10),\n",
    "            nn.ReLU()\n",
    "        )\n",
    "        \n",
    "        self.model_final = nn.Sequential(\n",
    "            nn.Conv1d(494,100,kernel_size=10),\n",
    "            nn.Tanh(),\n",
    "            nn.Conv1d(100,100,kernel_size=5),\n",
    "            nn.Tanh(),\n",
    "            nn.Conv1d(100,6,kernel_size=4,padding=8),\n",
    "            nn.Tanh()\n",
    "            \n",
    "            \n",
    "        )"
   ]
  }
 ],
 "metadata": {
  "kernelspec": {
   "display_name": "Python 3",
   "language": "python",
   "name": "python3"
  },
  "language_info": {
   "codemirror_mode": {
    "name": "ipython",
    "version": 3
   },
   "file_extension": ".py",
   "mimetype": "text/x-python",
   "name": "python",
   "nbconvert_exporter": "python",
   "pygments_lexer": "ipython3",
   "version": "3.6.9"
  }
 },
 "nbformat": 4,
 "nbformat_minor": 2
}
