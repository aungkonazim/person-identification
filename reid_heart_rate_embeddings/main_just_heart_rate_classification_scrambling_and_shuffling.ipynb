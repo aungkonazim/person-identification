{
 "cells": [
  {
   "cell_type": "code",
   "execution_count": 1,
   "metadata": {},
   "outputs": [],
   "source": [
    "import pickle\n",
    "X_hr2,y_stress2,y_participant2,X_time2 = pickle.load(open('../data/tabular_data_60_seconds_ppg_rr_dalia_normalized.p','rb'))\n",
    "\n",
    "X_hr2 = X_hr2.reshape(-1,30,1)"
   ]
  },
  {
   "cell_type": "code",
   "execution_count": 2,
   "metadata": {},
   "outputs": [],
   "source": [
    "import pickle\n",
    "X_hr1,y_stress1,y_participant1,X_time1 = pickle.load(open('../data/tabular_data_60_seconds_ppg_rr_normalized.p','rb'))\n",
    "\n",
    "X_hr1 = X_hr1.reshape(-1,30,1)"
   ]
  },
  {
   "cell_type": "code",
   "execution_count": 3,
   "metadata": {},
   "outputs": [],
   "source": [
    "import numpy as np\n",
    "X_hr = np.concatenate([X_hr2,X_hr1])"
   ]
  },
  {
   "cell_type": "code",
   "execution_count": 4,
   "metadata": {},
   "outputs": [],
   "source": [
    "y_participant = np.array(list(y_participant2)+list(y_participant1+np.max(y_participant1)+1))"
   ]
  },
  {
   "cell_type": "code",
   "execution_count": 5,
   "metadata": {},
   "outputs": [
    {
     "name": "stdout",
     "output_type": "stream",
     "text": [
      "4 Physical GPUs, 1 Logical GPU\n",
      "30 0.43921251516188226\n",
      "15 0.7046931857058439\n",
      "10 0.7174758187416416\n",
      "6 0.8555655770845644\n",
      "5 0.8367803937424191\n",
      "3 0.9445774888812863\n",
      "2 0.9658196746804342\n",
      "1 0.9877460890119117\n"
     ]
    }
   ],
   "source": [
    "import tensorflow as tf\n",
    "gpus = tf.config.experimental.list_physical_devices('GPU')\n",
    "if gpus:\n",
    "  # Restrict TensorFlow to only use the first GPU\n",
    "    try:\n",
    "        tf.config.experimental.set_visible_devices(gpus[3], 'GPU')\n",
    "        logical_gpus = tf.config.experimental.list_logical_devices('GPU')\n",
    "        print(len(gpus), \"Physical GPUs,\", len(logical_gpus), \"Logical GPU\")\n",
    "    except RuntimeError as e:\n",
    "        # Visible devices must be set before GPUs have been initialized\n",
    "        print(e)\n",
    "import tensorflow_addons as tfa\n",
    "import tensorflow_datasets as tfds\n",
    "import numpy as np\n",
    "import matplotlib.pyplot as plt\n",
    "from sklearn.model_selection import train_test_split,LeaveOneGroupOut,LeavePGroupsOut\n",
    "from sklearn.metrics import accuracy_score\n",
    "from tensorflow import keras\n",
    "from tensorflow.keras import backend as K \n",
    "import matplotlib.pyplot as plt\n",
    "from keras.callbacks import ModelCheckpoint\n",
    "from keras.callbacks import EarlyStopping\n",
    "from sklearn.model_selection import train_test_split\n",
    "import numpy as np\n",
    "%matplotlib notebook\n",
    "from keras.layers import Conv1D,Reshape,BatchNormalization,TimeDistributed, \\\n",
    "Dropout,Input,MaxPooling1D,Flatten,Dense,Input, GaussianNoise,LSTM, Bidirectional, Input\n",
    "from keras.models import Model, Sequential\n",
    "from sklearn.preprocessing import OneHotEncoder, LabelBinarizer,LabelEncoder\n",
    "from sklearn.metrics.pairwise import euclidean_distances\n",
    "from scipy.stats.mstats import winsorize\n",
    "\n",
    "\n",
    "class Shuffler:\n",
    "    def __init__(self, region_length=1,n_timesteps=30):\n",
    "        self.n_timesteps = n_timesteps\n",
    "        self.splits = n_timesteps//region_length\n",
    "    def __call__(self, x):\n",
    "        x = tf.reshape(x,(-1,self.n_timesteps))\n",
    "        x = tf.transpose(x)\n",
    "        xs = tf.split(x,self.splits)\n",
    "        x = tf.transpose(tf.reshape(tf.concat(tf.gather(xs,tf.random.shuffle(tf.range(self.splits))),axis=0),(self.n_timesteps,-1)))\n",
    "        x = tf.reshape(x,(-1,self.n_timesteps,1))\n",
    "        return x\n",
    "\n",
    "class Scrambler:\n",
    "    def __init__(self, region_length=1,n_timesteps=30):\n",
    "        self.n_timesteps = n_timesteps\n",
    "        self.splits = n_timesteps//region_length\n",
    "    def __call__(self, x):\n",
    "        x = tf.reshape(x,(-1,self.n_timesteps))\n",
    "        x = tf.transpose(x)\n",
    "        xs = tf.split(x,self.splits)\n",
    "        xs1 = []\n",
    "        for a in xs:\n",
    "            xs1.append(tf.random.shuffle(a))\n",
    "        x = tf.transpose(tf.concat(xs1,axis=0))\n",
    "        x = tf.reshape(x,(-1,self.n_timesteps,1))\n",
    "        return x    \n",
    "\n",
    "def get_model(input_shape=(30,1),act='relu',loss=\"categorical_crossentropy\",opt='adam',\n",
    "              n_classes=350,n_region=1):\n",
    "    \n",
    "    model =  Sequential()\n",
    "    model.add(Input(shape=input_shape))\n",
    "    model.add(Reshape(input_shape))\n",
    "    model.add(tf.keras.layers.Lambda(Scrambler(n_region),name='shuffling'))\n",
    "    model.add(Conv1D(100,10,input_shape=input_shape,activation='relu',kernel_initializer='normal',padding='same'))\n",
    "    model.add(Conv1D(100,10,input_shape=input_shape,activation='relu',kernel_initializer='normal',padding='same'))\n",
    "    model.add(MaxPooling1D(2))\n",
    "    model.add(BatchNormalization())\n",
    "    model.add(Dropout(.2))\n",
    "    model.add(Conv1D(200,10,activation='relu',kernel_initializer='normal',padding='same'))\n",
    "    model.add(MaxPooling1D(2))\n",
    "    model.add(BatchNormalization())\n",
    "    model.add(Dropout(.2))\n",
    "    model.add(Conv1D(300,10,activation='relu',kernel_initializer='normal',padding='same'))\n",
    "    model.add(MaxPooling1D(2))\n",
    "    model.add(BatchNormalization())\n",
    "    model.add(Conv1D(50,2,activation='relu',kernel_initializer='normal',padding='same'))\n",
    "    model.add(MaxPooling1D(2))\n",
    "    model.add(BatchNormalization())\n",
    "    model.add(Dropout(.2))\n",
    "    model.add(Flatten())\n",
    "    model.add(Dense(n_classes,activation='relu'))\n",
    "    model.add(Dense(n_classes,activation='sigmoid'))\n",
    "    model.add(Dense(n_classes,activation='softmax'))\n",
    "    model.compile(loss=tf.keras.losses.SparseCategoricalCrossentropy(),optimizer=opt)\n",
    "    return model\n",
    "\n",
    "result = []\n",
    "for k in [30,15,10,6,5,3,2,1]:\n",
    "    train_participant = y_participant.copy()\n",
    "\n",
    "    train_x = winsorize(X_hr.reshape(-1,30),limits=[0,0],axis=1).reshape(-1,30,1)\n",
    "    train_y = y_participant.copy()\n",
    "\n",
    "    train_x, test_x, train_y, test_y,participant_ids_train, participant_ids_test = train_test_split(train_x,\n",
    "                                                                train_participant,\n",
    "                                                                y_participant,\n",
    "                                                                test_size = 0.3,\n",
    "                                                                random_state=41,\n",
    "                                                                stratify=y_participant)\n",
    "    train_x, val_x, train_y, val_y, participant_ids_train, participant_ids_val  = train_test_split(train_x,\n",
    "                                                                train_y,\n",
    "                                                                participant_ids_train,\n",
    "                                                                test_size = 0.1,\n",
    "                                                                random_state=41,\n",
    "                                                                stratify=participant_ids_train)\n",
    "\n",
    "    n_classes = 200\n",
    "    n_output = len(np.unique(y_participant))\n",
    "    model = get_model(input_shape=(30,1),n_classes=n_output,n_region=k) \n",
    "    #     model.summary()\n",
    "\n",
    "    # model.layers[0]\n",
    "\n",
    "    from keras.models import load_model\n",
    "    filepath = '../model_files/base_cnn_60_seconds_ppg_hr_wesad_dalia_combined_only_classification.hdf5'\n",
    "\n",
    "    checkpoint = ModelCheckpoint(filepath, monitor='val_loss', verbose=0, save_best_only=True, mode='min',save_weights_only=True)\n",
    "    es = EarlyStopping(monitor='val_loss', mode='min', verbose=0,patience=40)\n",
    "    callbacks_list = [es,checkpoint]\n",
    "\n",
    "    history = model.fit(train_x,train_y,validation_data=(val_x,val_y), epochs=1000, \n",
    "                        batch_size=500,callbacks=callbacks_list,shuffle=True,verbose=0)\n",
    "\n",
    "    model = get_model(input_shape=(30,1),n_classes=n_output,n_region=k) \n",
    "#     model.summary()\n",
    "    model.load_weights(filepath)\n",
    "    test_y_pred = model.predict(test_x).argmax(axis=1)\n",
    "\n",
    "    from sklearn.metrics import confusion_matrix,classification_report,accuracy_score\n",
    "    result.append(np.array([k,accuracy_score(test_y,test_y_pred)]))\n",
    "    print(k,accuracy_score(test_y,test_y_pred))\n",
    "#     print(classification_report(test_y,test_y_pred))\n",
    "    # # # model = load_model(filepath)"
   ]
  },
  {
   "cell_type": "code",
   "execution_count": 6,
   "metadata": {},
   "outputs": [
    {
     "data": {
      "image/png": "[encoded data removed]",
      "text/plain": [
       "<Figure size 720x576 with 1 Axes>"
      ]
     },
     "metadata": {
      "needs_background": "light"
     },
     "output_type": "display_data"
    }
   ],
   "source": [
    "%matplotlib inline\n",
    "import matplotlib.pyplot as plt\n",
    "\n",
    "# x = [30,15,10,6,5,3,2,1]\n",
    "# y = [.99,.81,.66,.64,.67,.65,.54,.47]\n",
    "x = np.array(result)[:,0]\n",
    "y = np.array(result)[:,1]\n",
    "plt.rcParams.update({'font.size':25})\n",
    "plt.figure(figsize=(10,8))\n",
    "plt.plot(x,y,'*--g',linewidth=2)\n",
    "plt.xlabel('Length of Each Block '+r'$w$')\n",
    "plt.ylabel('Reidentification Accuracy')\n",
    "plt.savefig('reid_acc.png')\n",
    "plt.show()"
   ]
  },
  {
   "cell_type": "code",
   "execution_count": null,
   "metadata": {},
   "outputs": [],
   "source": [
    "# test_embeddings = model.predict(test_x)\n",
    "test_y_pred = model.predict(test_x).argmax(axis=1)\n",
    "\n",
    "from sklearn.metrics import confusion_matrix,classification_report,accuracy_score\n",
    "result.append(np.array([k,accuracy_score(test_y,test_y_pred)]))\n",
    "print(accuracy_score(test_y,test_y_pred))\n",
    "print(classification_report(test_y,test_y_pred))"
   ]
  },
  {
   "cell_type": "code",
   "execution_count": null,
   "metadata": {},
   "outputs": [],
   "source": []
  },
  {
   "cell_type": "code",
   "execution_count": null,
   "metadata": {},
   "outputs": [],
   "source": [
    "test_y_pred = model.predict(test_x).argmax(axis=1)\n",
    "\n",
    "from sklearn.metrics import confusion_matrix,classification_report,accuracy_score\n",
    "# result.append(np.array([k,accuracy_score(test_y,test_y_pred)]))\n",
    "print(accuracy_score(test_y,test_y_pred))\n",
    "print(classification_report(test_y,test_y_pred))"
   ]
  },
  {
   "cell_type": "code",
   "execution_count": null,
   "metadata": {},
   "outputs": [],
   "source": [
    "%matplotlib inline\n",
    "from sklearn.decomposition import PCA\n",
    "from sklearn.manifold import TSNE\n",
    "train_embeddings_pca = TSNE(n_components=2).fit_transform(test_embeddings)\n",
    "plt.figure()\n",
    "plt.scatter(train_embeddings_pca[:,0],train_embeddings_pca[:,1],c=test_y)\n",
    "plt.colorbar()\n",
    "plt.show()"
   ]
  },
  {
   "cell_type": "code",
   "execution_count": null,
   "metadata": {},
   "outputs": [],
   "source": [
    "import tensorflow as tf"
   ]
  },
  {
   "cell_type": "code",
   "execution_count": null,
   "metadata": {},
   "outputs": [],
   "source": [
    "tf.random.shuffle(tf.convert_to_tensor(np.arange(10).reshape(10,1),dtype=tf.float32))"
   ]
  },
  {
   "cell_type": "code",
   "execution_count": null,
   "metadata": {},
   "outputs": [],
   "source": [
    "import pickle\n",
    "test_dalia_x,test_dalia_y_stress,test_dalia_y,test_dalia_time = pickle.load(open('../data/tabular_data_60_seconds_ppg_rr_dalia_normalized.p',\n",
    "                                                                                 'rb'))"
   ]
  },
  {
   "cell_type": "code",
   "execution_count": null,
   "metadata": {},
   "outputs": [],
   "source": [
    "test_dalia_x = test_dalia_x.reshape(-1,30,1)"
   ]
  },
  {
   "cell_type": "code",
   "execution_count": null,
   "metadata": {},
   "outputs": [],
   "source": [
    "test_dalia_embeddings = model.predict(test_dalia_x)"
   ]
  },
  {
   "cell_type": "code",
   "execution_count": null,
   "metadata": {},
   "outputs": [],
   "source": [
    "train_embeddings_pca = TSNE(n_components=2).fit_transform(test_dalia_embeddings)\n",
    "plt.figure()\n",
    "plt.scatter(train_embeddings_pca[:,0],train_embeddings_pca[:,1],c=test_dalia_y)\n",
    "plt.colorbar()\n",
    "plt.show()"
   ]
  },
  {
   "cell_type": "code",
   "execution_count": null,
   "metadata": {},
   "outputs": [],
   "source": [
    "model = get_model(input_shape=(30,1),n_classes=n_classes,n_output=n_output,loss=custom_loss) \n",
    "model.summary()\n",
    "model.load_weights(filepath)"
   ]
  },
  {
   "cell_type": "code",
   "execution_count": null,
   "metadata": {},
   "outputs": [],
   "source": [
    "y_pred = model.predict(test_x).argmax(axis=1)"
   ]
  },
  {
   "cell_type": "code",
   "execution_count": null,
   "metadata": {},
   "outputs": [],
   "source": [
    "from sklearn.metrics import confusion_matrix"
   ]
  },
  {
   "cell_type": "code",
   "execution_count": null,
   "metadata": {},
   "outputs": [],
   "source": [
    "print(confusion_matrix(test_y,y_pred))"
   ]
  },
  {
   "cell_type": "code",
   "execution_count": null,
   "metadata": {},
   "outputs": [],
   "source": [
    "%matplotlib inline\n",
    "def get_clusters(model,train_x,train_y):\n",
    "    train_embeddings = model.predict(train_x)\n",
    "\n",
    "    from sklearn.decomposition import PCA\n",
    "\n",
    "    train_embeddings_pca = PCA(n_components=20).fit_transform(train_embeddings)\n",
    "\n",
    "    plt.figure()\n",
    "    plt.scatter(train_embeddings_pca[:,0],train_embeddings_pca[:,1],c=train_y)\n",
    "    plt.show()\n",
    "get_clusters(model,test_x,test_y)"
   ]
  },
  {
   "cell_type": "code",
   "execution_count": null,
   "metadata": {},
   "outputs": [],
   "source": [
    "import pickle\n",
    "test_dalia_x,test_dalia_y_stress,test_dalia_y,test_dalia_time = pickle.load(open('../data/tabular_data_60_seconds_ppg_rr_dalia.p',\n",
    "                                                                                 'rb'))\n",
    "test_dalia_x = test_dalia_x.reshape(-1,30,1)\n",
    "get_clusters(model,test_dalia_x,test_dalia_y)"
   ]
  },
  {
   "cell_type": "code",
   "execution_count": null,
   "metadata": {},
   "outputs": [],
   "source": [
    "def give_rank_accuracy(train_embeddings,train_y,rank = 10):\n",
    "    distance_matrix = euclidean_distances(train_embeddings)\n",
    "    distance_matrix_2d = np.zeros((distance_matrix.shape[0],\n",
    "                               distance_matrix.shape[0],\n",
    "                               2))\n",
    "    distance_matrix_2d[:,:,0] = distance_matrix\n",
    "    train_y_matrix = np.concatenate([train_y.reshape(1,-1)]*distance_matrix.shape[0])\n",
    "    distance_matrix_2d[:,:,1] = train_y_matrix\n",
    "    match = 0\n",
    "    for i in range(distance_matrix.shape[0]):\n",
    "        row = distance_matrix_2d[i]\n",
    "        row = row[row[:,0].argsort(),:]\n",
    "        if rank==1:\n",
    "            if train_y[i]==row[1,1]:\n",
    "                match+=1\n",
    "        else:\n",
    "            row = set(row[1:(rank+1)][:,1])\n",
    "            if train_y[i] in row:\n",
    "                match+=1\n",
    "    return match/distance_matrix.shape[0]"
   ]
  },
  {
   "cell_type": "code",
   "execution_count": null,
   "metadata": {},
   "outputs": [],
   "source": [
    "rank_1 = give_rank_accuracy(train_embeddings,train_y,rank = 1)\n",
    "rank_5 = give_rank_accuracy(train_embeddings,train_y,rank = 5)\n",
    "rank_10 = give_rank_accuracy(train_embeddings,train_y,rank = 10)\n",
    "print(rank_1,rank_5,rank_10)"
   ]
  },
  {
   "cell_type": "code",
   "execution_count": null,
   "metadata": {},
   "outputs": [],
   "source": [
    "test_embeddings = model.predict(test_x)"
   ]
  },
  {
   "cell_type": "code",
   "execution_count": null,
   "metadata": {},
   "outputs": [],
   "source": [
    "rank_1 = give_rank_accuracy(test_embeddings,test_y,rank = 1)\n",
    "rank_5 = give_rank_accuracy(test_embeddings,test_y,rank = 5)\n",
    "rank_10 = give_rank_accuracy(test_embeddings,test_y,rank = 10)\n",
    "print(rank_1,rank_5,rank_10)"
   ]
  },
  {
   "cell_type": "code",
   "execution_count": null,
   "metadata": {},
   "outputs": [],
   "source": [
    "test_x,y_stress,test_y,X_time = pickle.load(open('../data/tabular_data_60_seconds_ppg_rr_dalia.p','rb'))"
   ]
  },
  {
   "cell_type": "code",
   "execution_count": null,
   "metadata": {},
   "outputs": [],
   "source": [
    "test_x = test_x.reshape(-1,30,1)"
   ]
  },
  {
   "cell_type": "code",
   "execution_count": null,
   "metadata": {},
   "outputs": [],
   "source": [
    "test_embeddings = model.predict(test_x)\n",
    "rank_1 = give_rank_accuracy(test_embeddings,test_y,rank = 1)\n",
    "rank_5 = give_rank_accuracy(test_embeddings,test_y,rank = 5)\n",
    "rank_10 = give_rank_accuracy(test_embeddings,test_y,rank = 10)\n",
    "print(rank_1,rank_5,rank_10)"
   ]
  },
  {
   "cell_type": "code",
   "execution_count": null,
   "metadata": {},
   "outputs": [],
   "source": [
    "from sklearn.metrics import classification_report,confusion_matrix"
   ]
  },
  {
   "cell_type": "code",
   "execution_count": null,
   "metadata": {},
   "outputs": [],
   "source": [
    "print(classification_report(train_y,train_y_pred))\n",
    "print(confusion_matrix(train_y,train_y_pred))"
   ]
  },
  {
   "cell_type": "code",
   "execution_count": null,
   "metadata": {},
   "outputs": [],
   "source": [
    "tf.keras.layers.GaussianNoise(tf.random.uniform((30,1),minval=10,maxval=11))(test_x[0]),test_x[0]"
   ]
  },
  {
   "cell_type": "code",
   "execution_count": null,
   "metadata": {},
   "outputs": [],
   "source": [
    "model = Sequential()\n",
    "model.add(tf.keras.layers.Lambda(lambda x:tf.random.shuffle(x)))"
   ]
  },
  {
   "cell_type": "code",
   "execution_count": null,
   "metadata": {},
   "outputs": [],
   "source": [
    "tf.reshape(model(tf.convert_to_tensor(np.arange(10*30).reshape(5,2,1),dtype=tf.float32)),(2,5,1))"
   ]
  },
  {
   "cell_type": "code",
   "execution_count": null,
   "metadata": {},
   "outputs": [],
   "source": [
    "class Scrambler:\n",
    "    def __init__(self, region_length=1,n_timesteps=30):\n",
    "        self.n_timesteps = n_timesteps\n",
    "        self.splits = n_timesteps//region_length\n",
    "    def __call__(self, x):\n",
    "        x = tf.reshape(x,(-1,self.n_timesteps))\n",
    "        x = tf.transpose(x)\n",
    "        xs = tf.split(x,self.splits)\n",
    "        xs1 = []\n",
    "        for a in xs:\n",
    "            xs1.append(tf.random.shuffle(a))\n",
    "        x = tf.transpose(tf.concat(xs1,axis=0))\n",
    "        x = tf.reshape(x,(-1,self.n_timesteps,1))\n",
    "        return x    "
   ]
  },
  {
   "cell_type": "code",
   "execution_count": null,
   "metadata": {},
   "outputs": [],
   "source": [
    "f = Scrambler(30)"
   ]
  },
  {
   "cell_type": "code",
   "execution_count": null,
   "metadata": {},
   "outputs": [],
   "source": [
    "x = tf.convert_to_tensor(np.arange(10*30).reshape(-1,30,1))"
   ]
  },
  {
   "cell_type": "code",
   "execution_count": null,
   "metadata": {},
   "outputs": [],
   "source": [
    "f(x)"
   ]
  },
  {
   "cell_type": "code",
   "execution_count": null,
   "metadata": {},
   "outputs": [],
   "source": [
    "import tensorflow as tf\n",
    "import numpy as np\n",
    "x = tf.convert_to_tensor(np.arange(10*30).reshape(-1,30))\n",
    "x = tf.reshape(x,(10,30))\n",
    "# x = tf.random.shuffle(x)\n",
    "# x = tf.reshape(x,(-1,30))\n",
    "x"
   ]
  },
  {
   "cell_type": "code",
   "execution_count": null,
   "metadata": {},
   "outputs": [],
   "source": [
    "x = tf.transpose(x)"
   ]
  },
  {
   "cell_type": "code",
   "execution_count": null,
   "metadata": {},
   "outputs": [],
   "source": [
    "x"
   ]
  },
  {
   "cell_type": "code",
   "execution_count": null,
   "metadata": {},
   "outputs": [],
   "source": [
    "xs = tf.split(x,5)"
   ]
  },
  {
   "cell_type": "code",
   "execution_count": null,
   "metadata": {},
   "outputs": [],
   "source": [
    "xs1 = tf.gather(xs,tf.range(5))"
   ]
  },
  {
   "cell_type": "code",
   "execution_count": null,
   "metadata": {},
   "outputs": [],
   "source": [
    "xs1"
   ]
  },
  {
   "cell_type": "code",
   "execution_count": null,
   "metadata": {},
   "outputs": [],
   "source": [
    "xs1 = []\n",
    "for a in xs:\n",
    "    xs1.append(tf.random.shuffle(a))"
   ]
  },
  {
   "cell_type": "code",
   "execution_count": null,
   "metadata": {},
   "outputs": [],
   "source": [
    "tf.transpose(tf.concat(xs1,axis=0))"
   ]
  },
  {
   "cell_type": "code",
   "execution_count": null,
   "metadata": {},
   "outputs": [],
   "source": [
    "x = tf.reshape(x,(-1,self.n_timesteps))\n",
    "\n",
    "\n",
    "x = tf.transpose(x)\n",
    "xs = tf.split(x,self.splits)\n",
    "x = tf.transpose(tf.reshape(tf.concat(tf.gather(xs,tf.random.shuffle(tf.range(self.splits))),axis=0),(self.n_timesteps,-1)))\n",
    "x = tf.reshape(x,(-1,self.n_timesteps,1))"
   ]
  },
  {
   "cell_type": "code",
   "execution_count": null,
   "metadata": {},
   "outputs": [],
   "source": [
    "def custom_layer(x):\n",
    "    x = tf.reshape(x,(-1,30))\n",
    "    x = tf.transpose(tf.random.shuffle(tf.transpose(x)))\n",
    "    x = tf.reshape(x,(-1,15,2))\n",
    "    return x"
   ]
  },
  {
   "cell_type": "code",
   "execution_count": null,
   "metadata": {},
   "outputs": [],
   "source": [
    "class Scrambler:\n",
    "    def __init__(self, region_length=1,n_timesteps=30):\n",
    "        self.n_timesteps = n_timesteps\n",
    "        self.splits = n_timesteps//region_length\n",
    "    def __call__(self, x):\n",
    "        x = tf.reshape(x,(-1,self.n_timesteps))\n",
    "        x = tf.transpose(x)\n",
    "        xs = tf.split(x,self.splits)\n",
    "        x = tf.transpose(tf.reshape(tf.concat(tf.gather(xs,tf.random.shuffle(tf.range(self.splits))),axis=0),(self.n_timesteps,-1)))\n",
    "        x = tf.reshape(x,(-1,self.n_timesteps,1))\n",
    "        return x\n",
    "\n",
    "model = Sequential()\n",
    "model.add(tf.keras.layers.Lambda(Scrambler(3)))"
   ]
  },
  {
   "cell_type": "code",
   "execution_count": null,
   "metadata": {},
   "outputs": [],
   "source": [
    "test_x[:1]"
   ]
  },
  {
   "cell_type": "code",
   "execution_count": null,
   "metadata": {},
   "outputs": [],
   "source": [
    "model(test_x)[:1]"
   ]
  },
  {
   "cell_type": "code",
   "execution_count": null,
   "metadata": {},
   "outputs": [],
   "source": [
    "tf.concat(tf.gather(xs,tf.random.shuffle(tf.range(5))),axis=0)"
   ]
  },
  {
   "cell_type": "code",
   "execution_count": null,
   "metadata": {},
   "outputs": [],
   "source": []
  },
  {
   "cell_type": "code",
   "execution_count": null,
   "metadata": {},
   "outputs": [],
   "source": [
    "tf."
   ]
  },
  {
   "cell_type": "code",
   "execution_count": null,
   "metadata": {},
   "outputs": [],
   "source": []
  }
 ],
 "metadata": {
  "kernelspec": {
   "display_name": "Python 3",
   "language": "python",
   "name": "python3"
  },
  "language_info": {
   "codemirror_mode": {
    "name": "ipython",
    "version": 3
   },
   "file_extension": ".py",
   "mimetype": "text/x-python",
   "name": "python",
   "nbconvert_exporter": "python",
   "pygments_lexer": "ipython3",
   "version": "3.8.5"
  }
 },
 "nbformat": 4,
 "nbformat_minor": 4
}
