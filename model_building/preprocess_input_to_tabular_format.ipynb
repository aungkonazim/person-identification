{
 "cells": [
  {
   "cell_type": "markdown",
   "metadata": {},
   "source": [
    "Unzip Data from 42"
   ]
  },
  {
   "cell_type": "code",
   "execution_count": 1,
   "metadata": {},
   "outputs": [],
   "source": [
    "import zipfile\n",
    "import pickle\n",
    "import numpy as np\n",
    "import pandas as pd\n",
    "import os\n",
    "\n",
    "directory = '../data/data.zip'\n",
    "output_directory = '../data/data/'\n",
    "\n",
    "# os.listdir(output_directory)\n",
    "if not os.path.isdir(output_directory):\n",
    "    os.makedirs(output_directory)\n",
    "import zipfile\n",
    "with zipfile.ZipFile(directory, 'r') as zip_ref:\n",
    "    zip_ref.extractall(output_directory)"
   ]
  },
  {
   "cell_type": "markdown",
   "metadata": {},
   "source": [
    "Interpolate Input data to make fixed length and get the required frequency domain"
   ]
  },
  {
   "cell_type": "code",
   "execution_count": 3,
   "metadata": {},
   "outputs": [],
   "source": [
    "import os\n",
    "import pickle\n",
    "import pandas as pd\n",
    "import numpy as np\n",
    "from collections import Counter\n",
    "path = '../data/data/'\n",
    "\n",
    "from scipy import interpolate,signal\n",
    "def interpolate_data(df):\n",
    "    df = df[df[:,0].argsort(),:]\n",
    "    x = df[:,0]\n",
    "    y = df[:,1:]\n",
    "    f = interpolate.interp1d(x, y,axis=0,fill_value='extrapolate',kind='linear')\n",
    "    x_new = np.linspace(df[0,0],df[0,0]+20,500)\n",
    "    y_new = f(x_new)\n",
    "    return y_new    \n",
    "\n",
    "def filter_data_bandpass(X,\n",
    "                Fs=25,\n",
    "                low_cutoff=.4,\n",
    "                high_cutoff=3.0,\n",
    "                filter_order=65):\n",
    "    \"\"\"\n",
    "    Bandpass Filter of single channel\n",
    "\n",
    "    :param X: input data\n",
    "    :param Fs: sampling freq.\n",
    "    :param low_cutoff: low passband\n",
    "    :param high_cutoff: high passband\n",
    "    :param filter_order: no of taps in FIR filter\n",
    "\n",
    "    :return: filtered version of input data\n",
    "    \"\"\"\n",
    "    X1 = X.reshape(-1,1)\n",
    "    X1 = signal.detrend(X1,axis=0,type='constant')\n",
    "    b = signal.firls(filter_order,np.array([0,low_cutoff-.1, low_cutoff, high_cutoff ,high_cutoff+.5,Fs/2]),np.array([0, 0 ,1 ,1 ,0, 0]),\n",
    "                     np.array([100*0.02,0.02,0.02]),fs=Fs)\n",
    "    X2 = signal.convolve(X1.reshape(-1),b,mode='same')\n",
    "    return X2\n",
    "\n",
    "def butter_highpass(cutoff, fs, order=5):\n",
    "    nyq = 0.5 * fs\n",
    "    normal_cutoff = cutoff / nyq\n",
    "    b, a = signal.butter(order, normal_cutoff, btype='high', analog=False)\n",
    "    return b, a\n",
    "\n",
    "def butter_highpass_filter(data, cutoff, fs, order=5):\n",
    "    data = data.reshape(-1,1)\n",
    "    data = signal.detrend(data,axis=0,type='constant').reshape(-1)\n",
    "    b, a = butter_highpass(cutoff, fs, order=order)\n",
    "    y = signal.filtfilt(b, a, data)\n",
    "    return y\n",
    "\n",
    "def highpass_filter(df,cutoff=4,fs=25,order=3):\n",
    "    df[:,0] = butter_highpass_filter(df[:,0], cutoff, fs, order)\n",
    "    df[:,1] = butter_highpass_filter(df[:,1], cutoff, fs, order)\n",
    "    df[:,2] = butter_highpass_filter(df[:,2], cutoff, fs, order)\n",
    "    return df\n",
    "\n",
    "X = []\n",
    "y = []\n",
    "for f in list(os.listdir(path)):\n",
    "    if f[0]=='.':\n",
    "        continue\n",
    "    data = pickle.load(open(path+f,'rb'))\n",
    "    data['data'] = data['data'].apply(lambda a:interpolate_data(a))\n",
    "    data['data'] = data['data'].apply(lambda a:highpass_filter(a).reshape(1,-1,9))\n",
    "    X.append(np.concatenate(data['data'].values))\n",
    "    y.extend(list(data['user']))\n",
    "\n",
    "X = np.concatenate(X)\n",
    "\n",
    "y = np.array(y).reshape(-1,1)\n",
    "\n",
    "from sklearn.preprocessing import OneHotEncoder\n",
    "\n",
    "y_final = OneHotEncoder().fit_transform(y).todense()\n",
    "\n",
    "X.shape,y_final.shape\n",
    "\n",
    "pickle.dump([X,y_final],open('../data/xyhighpass.p','wb'),protocol=4)"
   ]
  },
  {
   "cell_type": "code",
   "execution_count": null,
   "metadata": {},
   "outputs": [],
   "source": []
  }
 ],
 "metadata": {
  "kernelspec": {
   "display_name": "Python 3",
   "language": "python",
   "name": "python3"
  },
  "language_info": {
   "codemirror_mode": {
    "name": "ipython",
    "version": 3
   },
   "file_extension": ".py",
   "mimetype": "text/x-python",
   "name": "python",
   "nbconvert_exporter": "python",
   "pygments_lexer": "ipython3",
   "version": "3.6.9"
  }
 },
 "nbformat": 4,
 "nbformat_minor": 2
}
