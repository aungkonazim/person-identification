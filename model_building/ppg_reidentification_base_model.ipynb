{
 "cells": [
  {
   "cell_type": "code",
   "execution_count": 1,
   "metadata": {},
   "outputs": [],
   "source": [
    "import pickle\n",
    "import os\n",
    "import numpy as np\n",
    "import tensorflow as tf\n",
    "import pandas as pd"
   ]
  },
  {
   "cell_type": "code",
   "execution_count": 2,
   "metadata": {},
   "outputs": [],
   "source": [
    "X,y = pickle.load(open('../data/xyhighpass.p','rb'))"
   ]
  },
  {
   "cell_type": "code",
   "execution_count": 3,
   "metadata": {},
   "outputs": [],
   "source": [
    "X = X[:,:,:3]\n",
    "y = np.array(y)\n",
    "groups = np.array(np.argmax(y,axis=1)).reshape(-1)"
   ]
  },
  {
   "cell_type": "code",
   "execution_count": 6,
   "metadata": {},
   "outputs": [],
   "source": [
    "def separate_known_unknown_users(X,y,groups,split_ratio = .2):\n",
    "    from sklearn.model_selection import LeavePGroupsOut\n",
    "    n_users = len(np.unique(groups))\n",
    "    lpgo = LeavePGroupsOut(n_groups=int(n_users*split_ratio))\n",
    "    for train_index, test_index in lpgo.split(X, y, groups=groups):\n",
    "        X_keep, X_out = X[train_index], X[test_index]\n",
    "        y_keep, y_out = y[train_index], y[test_index]\n",
    "        groups_keep, groups_out = groups[train_index], groups[test_index]\n",
    "        break\n",
    "    return X_keep,X_out,y_keep,y_out,groups_keep,groups_out"
   ]
  },
  {
   "cell_type": "code",
   "execution_count": 7,
   "metadata": {},
   "outputs": [],
   "source": [
    "X_keep,X_test_out,y_keep,y_test_out,groups_keep,groups_test_out = separate_known_unknown_users(X,y,groups,split_ratio=.2)"
   ]
  },
  {
   "cell_type": "code",
   "execution_count": 8,
   "metadata": {},
   "outputs": [],
   "source": [
    "X_in,X_val_out,y_in,y_val_out,groups_in,groups_val_out = separate_known_unknown_users(X_keep,y_keep,groups_keep,split_ratio=.1)"
   ]
  },
  {
   "cell_type": "code",
   "execution_count": 9,
   "metadata": {},
   "outputs": [],
   "source": [
    "from sklearn.model_selection import train_test_split\n",
    "X_train, X_test_in, y_train, y_test_in,groups_train,groups_test_in = train_test_split(X_in, y_in,groups_in, test_size=0.2, random_state=42,stratify=groups_in)"
   ]
  },
  {
   "cell_type": "code",
   "execution_count": 10,
   "metadata": {},
   "outputs": [],
   "source": [
    "X_train_in, X_val_in, y_train_in, y_val_in,groups_train_in,groups_val_in = train_test_split(X_train, y_train,groups_train, test_size=0.1, random_state=42,stratify=groups_train)"
   ]
  },
  {
   "cell_type": "code",
   "execution_count": 19,
   "metadata": {},
   "outputs": [],
   "source": [
    "train_data = pd.DataFrame({'x':list(X_train_in),'y':list(y_train_in),'group':groups_train_in})\n",
    "val_data_in = pd.DataFrame({'x':list(X_val_in),'y':list(y_val_in),'group':groups_val_in})\n",
    "val_data_out = pd.DataFrame({'x':list(X_val_out),'y':list(y_val_out),'group':groups_val_out})\n",
    "test_data_in = pd.DataFrame({'x':list(X_test_in),'y':list(y_test_in),'group':groups_test_in})\n",
    "test_data_out = pd.DataFrame({'x':list(X_test_out),'y':list(y_test_out),'group':groups_test_out})"
   ]
  },
  {
   "cell_type": "code",
   "execution_count": 20,
   "metadata": {},
   "outputs": [
    {
     "data": {
      "text/plain": [
       "(114278, 3)"
      ]
     },
     "execution_count": 20,
     "metadata": {},
     "output_type": "execute_result"
    }
   ],
   "source": []
  },
  {
   "cell_type": "code",
   "execution_count": null,
   "metadata": {},
   "outputs": [],
   "source": []
  }
 ],
 "metadata": {
  "kernelspec": {
   "display_name": "Python 3",
   "language": "python",
   "name": "python3"
  },
  "language_info": {
   "codemirror_mode": {
    "name": "ipython",
    "version": 3
   },
   "file_extension": ".py",
   "mimetype": "text/x-python",
   "name": "python",
   "nbconvert_exporter": "python",
   "pygments_lexer": "ipython3",
   "version": "3.6.9"
  }
 },
 "nbformat": 4,
 "nbformat_minor": 2
}
