{
 "cells": [
  {
   "cell_type": "code",
   "execution_count": 82,
   "metadata": {},
   "outputs": [],
   "source": [
    "import pickle\n",
    "import os\n",
    "import numpy as np\n",
    "import tensorflow as tf\n",
    "import pandas as pd"
   ]
  },
  {
   "cell_type": "code",
   "execution_count": 83,
   "metadata": {},
   "outputs": [],
   "source": [
    "X,y = pickle.load(open('../data/xyhighpass.p','rb'))"
   ]
  },
  {
   "cell_type": "code",
   "execution_count": 84,
   "metadata": {},
   "outputs": [],
   "source": [
    "X = X[:,:,:3]\n",
    "y = np.array(y)\n",
    "groups = np.array(np.argmax(y,axis=1)).reshape(-1)"
   ]
  },
  {
   "cell_type": "code",
   "execution_count": 85,
   "metadata": {},
   "outputs": [],
   "source": [
    "def separate_known_unknown_users(X,y,groups,split_ratio = .2):\n",
    "    from sklearn.model_selection import LeavePGroupsOut\n",
    "    n_users = len(np.unique(groups))\n",
    "    lpgo = LeavePGroupsOut(n_groups=int(n_users*split_ratio))\n",
    "    for train_index, test_index in lpgo.split(X, y, groups=groups):\n",
    "        X_keep, X_out = X[train_index], X[test_index]\n",
    "        y_keep, y_out = y[train_index], y[test_index]\n",
    "        groups_keep, groups_out = groups[train_index], groups[test_index]\n",
    "        break\n",
    "    return X_keep,X_out,y_keep,y_out,groups_keep,groups_out"
   ]
  },
  {
   "cell_type": "code",
   "execution_count": 86,
   "metadata": {},
   "outputs": [],
   "source": [
    "X_keep,X_test_out,y_keep,y_test_out,groups_keep,groups_test_out = separate_known_unknown_users(X,y,groups,split_ratio=.2)"
   ]
  },
  {
   "cell_type": "code",
   "execution_count": 87,
   "metadata": {},
   "outputs": [],
   "source": [
    "X_in,X_val_out,y_in,y_val_out,groups_in,groups_val_out = separate_known_unknown_users(X_keep,y_keep,groups_keep,split_ratio=.1)"
   ]
  },
  {
   "cell_type": "code",
   "execution_count": 88,
   "metadata": {},
   "outputs": [],
   "source": [
    "from sklearn.model_selection import train_test_split\n",
    "X_train, X_test_in, y_train, y_test_in,groups_train,groups_test_in = train_test_split(X_in, y_in,groups_in, test_size=0.2, random_state=42,stratify=groups_in)"
   ]
  },
  {
   "cell_type": "code",
   "execution_count": 90,
   "metadata": {},
   "outputs": [],
   "source": [
    "X_train_in, X_val_in, y_train_in, y_val_in,groups_train_in,groups_val_in = train_test_split(X_train, y_train,groups_train, test_size=0.1, random_state=42,stratify=groups_train)"
   ]
  },
  {
   "cell_type": "code",
   "execution_count": 91,
   "metadata": {},
   "outputs": [
    {
     "name": "stdout",
     "output_type": "stream",
     "text": [
      "(22852, 500, 3) [21 22 23 24 25 26 27 28 29 30 31 32 33 34 35 36 37 38 39 40 41 42 43 44\n",
      " 45 46 47 48 49 50 51 52 53 54 55 56 57 58 59 60 61 62 63 64 65 66 67 68\n",
      " 69 70 71 72 73 74 75 76 77 78]\n"
     ]
    }
   ],
   "source": [
    "print(X_train_in.shape,np.unique(groups_train_in))"
   ]
  },
  {
   "cell_type": "code",
   "execution_count": 92,
   "metadata": {},
   "outputs": [
    {
     "name": "stdout",
     "output_type": "stream",
     "text": [
      "(5713, 500, 3) [21 22 23 24 25 26 27 28 29 30 31 32 33 34 35 36 37 38 39 40 41 42 43 44\n",
      " 45 46 47 48 49 50 51 52 53 54 55 56 57 58 59 60 61 62 63 64 65 66 67 68\n",
      " 69 70 71 72 73 74 75 76 77 78]\n"
     ]
    }
   ],
   "source": [
    "print(X_val_in.shape,np.unique(groups_val_in))"
   ]
  },
  {
   "cell_type": "code",
   "execution_count": 93,
   "metadata": {},
   "outputs": [
    {
     "name": "stdout",
     "output_type": "stream",
     "text": [
      "(7142, 500, 3) [21 22 23 24 25 26 27 28 29 30 31 32 33 34 35 36 37 38 39 40 41 42 43 44\n",
      " 45 46 47 48 49 50 51 52 53 54 55 56 57 58 59 60 61 62 63 64 65 66 67 68\n",
      " 69 70 71 72 73 74 75 76 77 78]\n"
     ]
    }
   ],
   "source": [
    "print(X_test.shape,np.unique(groups_test_in))"
   ]
  },
  {
   "cell_type": "code",
   "execution_count": 94,
   "metadata": {},
   "outputs": [
    {
     "name": "stdout",
     "output_type": "stream",
     "text": [
      "(3700, 500, 3) [15 16 17 18 19 20]\n"
     ]
    }
   ],
   "source": [
    "print(X_val_out.shape,np.unique(groups_val_out))"
   ]
  },
  {
   "cell_type": "code",
   "execution_count": null,
   "metadata": {},
   "outputs": [],
   "source": [
    "print(X_te_out.shape,np.unique(groups_val_out))"
   ]
  }
 ],
 "metadata": {
  "kernelspec": {
   "display_name": "Python 3",
   "language": "python",
   "name": "python3"
  },
  "language_info": {
   "codemirror_mode": {
    "name": "ipython",
    "version": 3
   },
   "file_extension": ".py",
   "mimetype": "text/x-python",
   "name": "python",
   "nbconvert_exporter": "python",
   "pygments_lexer": "ipython3",
   "version": "3.6.9"
  }
 },
 "nbformat": 4,
 "nbformat_minor": 2
}
